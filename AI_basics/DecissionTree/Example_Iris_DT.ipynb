{
 "cells": [
  {
   "cell_type": "markdown",
   "metadata": {},
   "source": [
    "# Decision Tree\n",
    "\n",
    "We use the sklearn module to train a decision tree.\n",
    "Here, the task is to predict the iris type into <b>3 classes</b>.\n",
    "<p>\n",
    "Versicolor<br>\n",
    "Setosa<br>\n",
    "Virginica<br>\n",
    "</p><br>\n",
    "\n",
    "### 1. Step: Load Data:"
   ]
  },
  {
   "cell_type": "code",
   "execution_count": null,
   "metadata": {},
   "outputs": [],
   "source": [
    "import pandas as pd\n",
    "data = pd.read_csv(\"iris.csv\", sep = \",\")\n",
    "\n",
    "data"
   ]
  },
  {
   "cell_type": "markdown",
   "metadata": {},
   "source": [
    "##### Explore and clean:"
   ]
  },
  {
   "cell_type": "code",
   "execution_count": null,
   "metadata": {},
   "outputs": [],
   "source": [
    "#Rows 98 to 102 and all columns\n",
    "data.loc[98:102,:]"
   ]
  },
  {
   "cell_type": "markdown",
   "metadata": {},
   "source": [
    "#### Convert variant to number"
   ]
  },
  {
   "cell_type": "code",
   "execution_count": null,
   "metadata": {},
   "outputs": [],
   "source": [
    "variant = {'Versicolor': 0, 'Setosa' : 1, 'Virginica' : 2}\n",
    "\n",
    "data['variety'] = data['variety'].map(variant)"
   ]
  },
  {
   "cell_type": "markdown",
   "metadata": {},
   "source": [
    "#### View impact"
   ]
  },
  {
   "cell_type": "code",
   "execution_count": null,
   "metadata": {},
   "outputs": [],
   "source": [
    "data.loc[48:52,:]\n",
    "\n",
    "#data.loc[98:102,:]"
   ]
  },
  {
   "cell_type": "markdown",
   "metadata": {},
   "source": [
    "### 2nd step: Correlation analysis:"
   ]
  },
  {
   "cell_type": "code",
   "execution_count": null,
   "metadata": {},
   "outputs": [],
   "source": [
    "#Note that the number 3 in the code indicates the number of digits after the decimal point for each cell.\n",
    "correlation = data.corr()\n",
    "correlation.style.background_gradient(cmap='coolwarm').format(precision=3)"
   ]
  },
  {
   "cell_type": "markdown",
   "metadata": {},
   "source": [
    "### 3rd step: combine and normalise labels:\n",
    "\n",
    "First, let's look at the individual labels as a plot. The count plot is a good tool for this. This allows you to quickly see the number of entries for the individual values:"
   ]
  },
  {
   "cell_type": "code",
   "execution_count": null,
   "metadata": {},
   "outputs": [],
   "source": [
    "import seaborn as sns\n",
    "import matplotlib.pyplot as plt\n",
    "\n",
    "plt.figure(figsize=(20,8))\n",
    "sns.countplot(x=\"variety\", data=data)"
   ]
  },
  {
   "cell_type": "markdown",
   "metadata": {},
   "source": [
    "### 4th step: Preparing the data:"
   ]
  },
  {
   "cell_type": "code",
   "execution_count": null,
   "metadata": {},
   "outputs": [],
   "source": [
    "#First define parameter variety as y-values (label):\n",
    "y_data = data.variety.values\n",
    "\n",
    "#remove label\n",
    "x_data = data.drop([\"variety\"],axis=1)\n",
    "\n",
    "#norm features\n",
    "from sklearn.preprocessing import MinMaxScaler\n",
    "mm = MinMaxScaler()\n",
    "x_norm = mm.fit_transform(x_data)\n",
    "\n",
    "#Split into training and test data (70% / 30%), random selection\n",
    "from sklearn.model_selection import train_test_split\n",
    "x_train, x_test, y_train, y_test = train_test_split(x_norm,y_data,test_size = 0.3,random_state=1)"
   ]
  },
  {
   "cell_type": "markdown",
   "metadata": {},
   "source": [
    "### 5th step: Generate, train and test model"
   ]
  },
  {
   "cell_type": "code",
   "execution_count": null,
   "metadata": {},
   "outputs": [],
   "source": [
    "#Import the corresponding module\n",
    "from sklearn.tree import DecisionTreeClassifier\n",
    "\n",
    "#define model\n",
    "#parameters see: https://scikit-learn.org/stable/modules/generated/sklearn.tree.DecisionTreeClassifier.html\n",
    "DecisionTreeClassifierModel = DecisionTreeClassifier(criterion='gini', splitter='best', max_depth=5,min_samples_split=2,\n",
    "                                    min_samples_leaf=1,min_weight_fraction_leaf=0.0,max_features=None,\n",
    "                                    random_state=0, max_leaf_nodes=5)\n",
    "\n",
    "DecisionTreeClassifierModel.fit(x_train, y_train)\n",
    "\n",
    "#some statistics...\n",
    "print('DecisionTreeClassifierModel Train Score is : ' , DecisionTreeClassifierModel.score(x_train, y_train))\n",
    "print('DecisionTreeClassifierModel Test Score is : ' , DecisionTreeClassifierModel.score(x_test, y_test))\n",
    "\n",
    "#Extract classes and important features\n",
    "print('DecisionTreeClassifierModel Classes are : ' , DecisionTreeClassifierModel.classes_)\n",
    "print('DecisionTreeClassifierModel feature importances are : ' , DecisionTreeClassifierModel.feature_importances_)"
   ]
  },
  {
   "cell_type": "markdown",
   "metadata": {},
   "source": [
    "### 6th step: Use metrics\n",
    "\n",
    "There are a lot of useful functions for displaying the prediction accuracy. Here is a very simple one:"
   ]
  },
  {
   "cell_type": "code",
   "execution_count": null,
   "metadata": {
    "execution": {
     "iopub.execute_input": "2021-07-27T10:41:00.762824Z",
     "iopub.status.busy": "2021-07-27T10:41:00.762468Z",
     "iopub.status.idle": "2021-07-27T10:41:00.770463Z",
     "shell.execute_reply": "2021-07-27T10:41:00.769374Z",
     "shell.execute_reply.started": "2021-07-27T10:41:00.762794Z"
    }
   },
   "outputs": [],
   "source": [
    "#Calculating Prediction\n",
    "y_pred = DecisionTreeClassifierModel.predict(x_test)\n",
    "# Now we calculate the probability of choosing the output for any division\n",
    "y_pred_prob = DecisionTreeClassifierModel.predict_proba(x_test)\n",
    "print('Predicted Value for DecisionTreeClassifierModel is : ' , y_pred[:10])\n",
    "# These are the values that we categorized.\n",
    "print(\"test values :\" ,y_test[:10] )\n",
    "print('Prediction Probabilities Value for DecisionTreeClassifierModel is : ' , y_pred_prob[:10])\n"
   ]
  },
  {
   "cell_type": "markdown",
   "metadata": {},
   "source": [
    "Another possibility is to use the ‘metric’ package:"
   ]
  },
  {
   "cell_type": "code",
   "execution_count": null,
   "metadata": {
    "execution": {
     "iopub.execute_input": "2021-07-27T10:41:11.179247Z",
     "iopub.status.busy": "2021-07-27T10:41:11.178882Z",
     "iopub.status.idle": "2021-07-27T10:41:11.419939Z",
     "shell.execute_reply": "2021-07-27T10:41:11.419193Z",
     "shell.execute_reply.started": "2021-07-27T10:41:11.179219Z"
    }
   },
   "outputs": [],
   "source": [
    "from sklearn.metrics import confusion_matrix\n",
    "\n",
    "\n",
    "\n",
    "#Calculating Confusion Matrix\n",
    "CM = confusion_matrix(y_test[:10], y_pred[:10])\n",
    "print('Confusion Matrix is : \\n', CM)\n",
    "\n",
    "# drawing confusion matrix\n",
    "sns.heatmap(CM, center = True, cmap=plt.cm.Blues, annot=True)\n",
    "plt.show()"
   ]
  },
  {
   "cell_type": "markdown",
   "metadata": {},
   "source": [
    "### Visualise decision tree\n"
   ]
  },
  {
   "cell_type": "code",
   "execution_count": null,
   "metadata": {},
   "outputs": [],
   "source": [
    "from sklearn.tree import plot_tree\n",
    "\n",
    "plt.figure(figsize=(20,25))\n",
    "\n",
    "class_names = ['versicolor', 'setosa', 'virginica']\n",
    "feature_names = ['sepal.length', 'sepal.width', 'petal.length','petal.width']\n",
    "\n",
    "plot_tree(DecisionTreeClassifierModel, filled=True, class_names=class_names, feature_names = feature_names)\n",
    "plt.title(\"Decision tree trained on all the iris features\")\n",
    "plt.show()"
   ]
  },
  {
   "cell_type": "code",
   "execution_count": null,
   "metadata": {},
   "outputs": [],
   "source": []
  }
 ],
 "metadata": {
  "kernelspec": {
   "display_name": "Python 3 (ipykernel)",
   "language": "python",
   "name": "python3"
  },
  "language_info": {
   "codemirror_mode": {
    "name": "ipython",
    "version": 3
   },
   "file_extension": ".py",
   "mimetype": "text/x-python",
   "name": "python",
   "nbconvert_exporter": "python",
   "pygments_lexer": "ipython3",
   "version": "3.10.13"
  }
 },
 "nbformat": 4,
 "nbformat_minor": 4
}
