{
 "cells": [
  {
   "cell_type": "markdown",
   "metadata": {},
   "source": [
    "# Decision Tree\n",
    "We will again use the sklearn module to train a decision tree\n",
    "First, read in and format the data:"
   ]
  },
  {
   "cell_type": "code",
   "execution_count": null,
   "metadata": {},
   "outputs": [],
   "source": [
    "#Todo: Import and prepare data as usual.\n",
    "\n"
   ]
  },
  {
   "cell_type": "code",
   "execution_count": null,
   "metadata": {
    "execution": {
     "iopub.execute_input": "2021-07-27T10:40:19.858889Z",
     "iopub.status.busy": "2021-07-27T10:40:19.858382Z",
     "iopub.status.idle": "2021-07-27T10:40:19.863256Z",
     "shell.execute_reply": "2021-07-27T10:40:19.862371Z",
     "shell.execute_reply.started": "2021-07-27T10:40:19.858858Z"
    }
   },
   "outputs": [],
   "source": [
    "#Import the corresponding module\n",
    "from sklearn.tree import DecisionTreeClassifier\n",
    "\n",
    "#define model\n",
    "#Parameters see: https://scikit-learn.org/stable/modules/generated/sklearn.tree.DecisionTreeClassifier.html\n",
    "DecisionTreeClassifierModel =DecisionTreeClassifier(criterion='gini', splitter='best', max_depth=3,min_samples_split=2,\n",
    "                                    min_samples_leaf=1,min_weight_fraction_leaf=0.0,max_features=None,\n",
    "                                    random_state=0, max_leaf_nodes=5)"
   ]
  },
  {
   "cell_type": "code",
   "execution_count": null,
   "metadata": {
    "execution": {
     "iopub.execute_input": "2021-07-27T10:40:32.415601Z",
     "iopub.status.busy": "2021-07-27T10:40:32.415274Z",
     "iopub.status.idle": "2021-07-27T10:40:32.423037Z",
     "shell.execute_reply": "2021-07-27T10:40:32.421698Z",
     "shell.execute_reply.started": "2021-07-27T10:40:32.415574Z"
    }
   },
   "outputs": [],
   "source": [
    "DecisionTreeClassifierModel.fit(x_train, y_train)"
   ]
  },
  {
   "cell_type": "code",
   "execution_count": null,
   "metadata": {
    "execution": {
     "iopub.execute_input": "2021-07-27T10:40:40.777948Z",
     "iopub.status.busy": "2021-07-27T10:40:40.777529Z",
     "iopub.status.idle": "2021-07-27T10:40:40.784242Z",
     "shell.execute_reply": "2021-07-27T10:40:40.783283Z",
     "shell.execute_reply.started": "2021-07-27T10:40:40.777914Z"
    }
   },
   "outputs": [],
   "source": [
    "#some statistics\n",
    "print('DecisionTreeClassifierModel Train Score is : ' , DecisionTreeClassifierModel.score(x_train, y_train))\n",
    "print('DecisionTreeClassifierModel Test Score is : ' , DecisionTreeClassifierModel.score(x_test, y_test))"
   ]
  },
  {
   "cell_type": "code",
   "execution_count": null,
   "metadata": {
    "execution": {
     "iopub.execute_input": "2021-07-27T10:40:50.525312Z",
     "iopub.status.busy": "2021-07-27T10:40:50.524984Z",
     "iopub.status.idle": "2021-07-27T10:40:50.531686Z",
     "shell.execute_reply": "2021-07-27T10:40:50.530534Z",
     "shell.execute_reply.started": "2021-07-27T10:40:50.525285Z"
    }
   },
   "outputs": [],
   "source": [
    "#Extract classes and important features\n",
    "print('DecisionTreeClassifierModel Classes are : ' , DecisionTreeClassifierModel.classes_)\n",
    "print('DecisionTreeClassifierModel feature importances are : ' , DecisionTreeClassifierModel.feature_importances_)"
   ]
  },
  {
   "cell_type": "markdown",
   "metadata": {},
   "source": [
    "### Task\n",
    "What do you conclude from the information above? Which features are specifically important?\n",
    "\n",
    "## Using metrics\n",
    "\n",
    "There are a lot of useful functions for displaying the accuracy of predictions. Here is a very simple one:"
   ]
  },
  {
   "cell_type": "code",
   "execution_count": null,
   "metadata": {
    "execution": {
     "iopub.execute_input": "2021-07-27T10:41:00.762824Z",
     "iopub.status.busy": "2021-07-27T10:41:00.762468Z",
     "iopub.status.idle": "2021-07-27T10:41:00.770463Z",
     "shell.execute_reply": "2021-07-27T10:41:00.769374Z",
     "shell.execute_reply.started": "2021-07-27T10:41:00.762794Z"
    }
   },
   "outputs": [],
   "source": [
    "#Calculating Prediction\n",
    "y_pred = DecisionTreeClassifierModel.predict(x_test)\n",
    "# Now we calculate the probability of choosing the output for any division\n",
    "y_pred_prob = DecisionTreeClassifierModel.predict_proba(x_test)\n",
    "print('Predicted Value for DecisionTreeClassifierModel is : ' , y_pred[:10])\n",
    "# These are the values that we categorized.\n",
    "print(\"test values :\" ,y_test[:10] )\n",
    "print('Prediction Probabilities Value for DecisionTreeClassifierModel is : ' , y_pred_prob[:10])\n"
   ]
  },
  {
   "cell_type": "markdown",
   "metadata": {},
   "source": [
    "Another possibility is to use the ‘metric’ package:"
   ]
  },
  {
   "cell_type": "code",
   "execution_count": null,
   "metadata": {
    "execution": {
     "iopub.execute_input": "2021-07-27T10:41:11.179247Z",
     "iopub.status.busy": "2021-07-27T10:41:11.178882Z",
     "iopub.status.idle": "2021-07-27T10:41:11.419939Z",
     "shell.execute_reply": "2021-07-27T10:41:11.419193Z",
     "shell.execute_reply.started": "2021-07-27T10:41:11.179219Z"
    }
   },
   "outputs": [],
   "source": [
    "from sklearn.metrics import confusion_matrix\n",
    "\n",
    "#Calculating Confusion Matrix\n",
    "CM = confusion_matrix(y_test, y_pred)\n",
    "print('Confusion Matrix is : \\n', CM)\n",
    "\n",
    "# drawing confusion matrix\n",
    "sns.heatmap(CM, center = True)\n",
    "plt.show()"
   ]
  },
  {
   "cell_type": "markdown",
   "metadata": {},
   "source": [
    "This means that a simple decision tree could achieve 100% prediction accuracy."
   ]
  },
  {
   "cell_type": "markdown",
   "metadata": {},
   "source": [
    "## Task\n",
    "\n",
    "Try to see if the new test data set is also recognised as well!"
   ]
  },
  {
   "cell_type": "code",
   "execution_count": null,
   "metadata": {},
   "outputs": [],
   "source": []
  }
 ],
 "metadata": {
  "kernelspec": {
   "display_name": "Python 3 (ipykernel)",
   "language": "python",
   "name": "python3"
  },
  "language_info": {
   "codemirror_mode": {
    "name": "ipython",
    "version": 3
   },
   "file_extension": ".py",
   "mimetype": "text/x-python",
   "name": "python",
   "nbconvert_exporter": "python",
   "pygments_lexer": "ipython3",
   "version": "3.10.13"
  }
 },
 "nbformat": 4,
 "nbformat_minor": 4
}
