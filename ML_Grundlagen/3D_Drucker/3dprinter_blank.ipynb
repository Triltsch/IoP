{
 "cells": [
  {
   "cell_type": "markdown",
   "metadata": {},
   "source": [
    "# 3D Printer DataSet\n",
    "\n",
    "\n",
    "Das folgende Beispiel soll zeigen, wie Sie einen komplexeren Datensatz verarbeiten können.\n",
    "Sie werden lernen einen Datensatz im CSV-Format mit Python zu verarbeiten, sich einen Überblick über die Daten zu verschaffen, die Daten zu manipulieren und Klassifikationen durchzuführen.\n",
    "\n"
   ]
  },
  {
   "cell_type": "markdown",
   "metadata": {},
   "source": [
    "Um Daten aus einem Datensatz importieren zu können, gibt es in Python eine sehr gute Biliothek: <b>pandas</b><br>\n",
    "Sollte diese nicht installiert sein, kann sie über:<br><br>\n",
    "\n",
    "pip install pandas <br><br>\n",
    "\n",
    "leicht installiert werden.<br><br>\n",
    "\n",
    "### Import der Daten:"
   ]
  },
  {
   "cell_type": "code",
   "execution_count": null,
   "metadata": {},
   "outputs": [],
   "source": [
    "import pandas as pd\n",
    "data = pd.read_csv(\"data.csv\", sep = \",\")"
   ]
  },
  {
   "cell_type": "markdown",
   "metadata": {},
   "source": [
    "### Holen wir uns Informationen über den Inhalt:"
   ]
  },
  {
   "cell_type": "code",
   "execution_count": null,
   "metadata": {},
   "outputs": [],
   "source": [
    "data.info()"
   ]
  },
  {
   "cell_type": "markdown",
   "metadata": {},
   "source": [
    "Der Datensatz ist eher klein, wir können auch den gesamten Datensatz anzeigen lassen:"
   ]
  },
  {
   "cell_type": "code",
   "execution_count": null,
   "metadata": {},
   "outputs": [],
   "source": [
    "data"
   ]
  },
  {
   "cell_type": "markdown",
   "metadata": {},
   "source": [
    "Daten können einfach manipuliert werden. Hier werden z.B. Layerhöhe und Dehnung mit 100 multipliziert:"
   ]
  },
  {
   "cell_type": "code",
   "execution_count": null,
   "metadata": {},
   "outputs": [],
   "source": [
    "data.layer_height = data.layer_height*100\n",
    "data.elongation = data.elongation*100"
   ]
  },
  {
   "cell_type": "markdown",
   "metadata": {},
   "source": [
    "Zeigen wir zur Kontrolle die ersten Einträge an:"
   ]
  },
  {
   "cell_type": "code",
   "execution_count": null,
   "metadata": {},
   "outputs": [],
   "source": [
    "data.head()"
   ]
  },
  {
   "cell_type": "markdown",
   "metadata": {},
   "source": [
    "Strings zu verarbeiten ist nicht so einfach möglich, formatieren wir also das Dataset noch etwas um.\n",
    "Definieren Sie das Material als 0, wenn es \"abs\" ist und als 1 wenn es \"pla\" ist."
   ]
  },
  {
   "cell_type": "code",
   "execution_count": null,
   "metadata": {},
   "outputs": [],
   "source": [
    "##Ausführlicher Weg\n",
    "templist = []\n",
    "for entry in data.material:\n",
    "    if entry == \"abs\": \n",
    "        templist.append(0)\n",
    "    else: \n",
    "        templist.append(1)\n",
    "data.material = templist\n",
    "\n",
    "#Abkürzung, macht genau das Gleiche:\n",
    "#data.material = [0 if each == \"abs\" else 1 for each in data.material]"
   ]
  },
  {
   "cell_type": "markdown",
   "metadata": {},
   "source": [
    "Definieren Sie nun das Infill_Pattern als 0, wenn es \"grid\" ist und als 1 wenn es \"honeycomb\" ist."
   ]
  },
  {
   "cell_type": "code",
   "execution_count": null,
   "metadata": {},
   "outputs": [],
   "source": []
  },
  {
   "cell_type": "code",
   "execution_count": null,
   "metadata": {},
   "outputs": [],
   "source": [
    "data"
   ]
  },
  {
   "cell_type": "markdown",
   "metadata": {},
   "source": [
    "Eingangs- und Ausgangsparameter trennen:"
   ]
  },
  {
   "cell_type": "code",
   "execution_count": null,
   "metadata": {},
   "outputs": [],
   "source": [
    "y_data = data.material.values\n",
    "x_data = data.drop([\"material\"],axis=1)"
   ]
  },
  {
   "cell_type": "code",
   "execution_count": null,
   "metadata": {},
   "outputs": [],
   "source": [
    "absm = data[data.material == 0]\n",
    "pla = data[data.material == 1]"
   ]
  },
  {
   "cell_type": "code",
   "execution_count": null,
   "metadata": {},
   "outputs": [],
   "source": [
    "absm.head()"
   ]
  },
  {
   "cell_type": "markdown",
   "metadata": {},
   "source": [
    "Versuchen wir nun verschiedene Parameter 1:1 als Scatter-Plot darzustellen. So können wir schnell beurteilen, ob eine Korrelation zu erkennen ist.<br>\n",
    "Für 2D-Daten ist die matplotlib sehr gut geeignet:"
   ]
  },
  {
   "cell_type": "code",
   "execution_count": null,
   "metadata": {},
   "outputs": [],
   "source": [
    "import matplotlib.pyplot as plt"
   ]
  },
  {
   "cell_type": "code",
   "execution_count": null,
   "metadata": {},
   "outputs": [],
   "source": [
    "#einzelne Scatterplots erzeugen: Wir wollen die Zugfestigkeit über der Lüftergeschwindigkeit darstellen\n",
    "#Beschreibung der Parameter: https://matplotlib.org/stable/api/_as_gen/matplotlib.pyplot.scatter.html\n",
    "#erst für abs\n",
    "plt.scatter(absm.fan_speed,absm.tension_strenght,color=\"red\",label=\"ABS\",alpha= 0.5)\n",
    "#jetzt für pla\n",
    "plt.scatter(pla.fan_speed,pla.tension_strenght,color=\"green\",label=\"PLA\",alpha= 0.5)\n",
    "plt.xlabel(\"Lüftergeschwindigkeit\")\n",
    "plt.ylabel(\"Zugfestigkeit\")\n",
    "plt.legend()\n",
    "plt.show()"
   ]
  },
  {
   "cell_type": "markdown",
   "metadata": {},
   "source": [
    "Hier scheint es keine Korrelation zu geben.\n",
    "Probieren Sie als nächstes die Rauheit über der Layerdicke zu plotten."
   ]
  },
  {
   "cell_type": "code",
   "execution_count": null,
   "metadata": {},
   "outputs": [],
   "source": []
  },
  {
   "cell_type": "markdown",
   "metadata": {},
   "source": [
    "Was stellen Sie fest?\n",
    "\n",
    "\n",
    "\n",
    "### 3D-Daten plotten\n",
    "\n",
    "Es gibt für die matplotlib ein Toolkit, mit dem sich auch 3D-Scatterplot leicht realisieren lassen.\n",
    "Wir drucken beispielhaft die Infill Density auf der x-Achse, die Wandstärke auf der y-Achse und die Zugfestigkeit auf der z-Achse:\n"
   ]
  },
  {
   "cell_type": "code",
   "execution_count": null,
   "metadata": {},
   "outputs": [],
   "source": [
    "from mpl_toolkits.mplot3d import Axes3D\n",
    "import matplotlib.pyplot as plt\n",
    "\n",
    "fig = plt.figure()\n",
    "ax = fig.add_subplot(111, projection='3d')\n",
    "\n",
    "x = data.infill_density\n",
    "y = data.wall_thickness\n",
    "z = data.tension_strenght\n",
    "\n",
    "ax.scatter(x, y, z, c='r', marker='o')\n",
    "\n",
    "ax.set_xlabel('Infill Density')\n",
    "ax.set_ylabel('Wandstärke')\n",
    "ax.set_zlabel('Zugfestigkeit')\n",
    "\n",
    "plt.show()"
   ]
  },
  {
   "cell_type": "markdown",
   "metadata": {},
   "source": [
    "## Aufgabe\n",
    "Versuchen Sie auch im 3D-Beispiel zusätzlich noch zwischen den Materialien zu unterscheiden:\n"
   ]
  },
  {
   "cell_type": "code",
   "execution_count": 102,
   "metadata": {},
   "outputs": [
    {
     "data": {
      "image/png": "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\n",
      "text/plain": [
       "<Figure size 432x288 with 1 Axes>"
      ]
     },
     "metadata": {
      "needs_background": "light"
     },
     "output_type": "display_data"
    }
   ],
   "source": []
  },
  {
   "cell_type": "markdown",
   "metadata": {},
   "source": [
    "Eine schnellere Methode Korrelationen zu finden ist das Erzeugen einer Korrelationsmatrix:"
   ]
  },
  {
   "cell_type": "code",
   "execution_count": null,
   "metadata": {},
   "outputs": [],
   "source": [
    "#Note that the number 3 in the code indicates the number of digits after the decimal point for each cell.\n",
    "correlation = data.corr()\n",
    "correlation.style.background_gradient(cmap='coolwarm').format(precision=3)"
   ]
  },
  {
   "cell_type": "markdown",
   "metadata": {},
   "source": [
    "Auf einen Blick bekommt man alle Features gegeneinander mit einem Pairplot aufbereitet. Geduld, das dauert etwas..."
   ]
  },
  {
   "cell_type": "code",
   "execution_count": null,
   "metadata": {},
   "outputs": [],
   "source": [
    "import seaborn as sns\n",
    "\n",
    "sns.pairplot(data)"
   ]
  },
  {
   "cell_type": "markdown",
   "metadata": {},
   "source": [
    "Auch ausgewählte Parameter lassen sich plotten:"
   ]
  },
  {
   "cell_type": "code",
   "execution_count": null,
   "metadata": {},
   "outputs": [],
   "source": [
    " sns.pairplot(data,vars=[\"fan_speed\", \"nozzle_temperature\"])"
   ]
  },
  {
   "cell_type": "markdown",
   "metadata": {},
   "source": [
    "Es können auch noch die Art der Darstellung (diag_kind) und ein zu unterscheidendes Merkmal (hue) übergeben werden:"
   ]
  },
  {
   "cell_type": "code",
   "execution_count": null,
   "metadata": {},
   "outputs": [],
   "source": [
    " sns.pairplot(data,vars=[\"fan_speed\", \"nozzle_temperature\"], diag_kind=\"kde\",hue=\"material\")"
   ]
  },
  {
   "cell_type": "markdown",
   "metadata": {},
   "source": [
    "## Aufgabe:\n",
    "\n",
    "Welche Parameter würden Sie wählen, um auf das Material schließen zu können? \n",
    "<ol>\n",
    "<li>\n",
    "    Nutzen Sie die Korrelationsmatrix und den Pairplot, um einen Ansatz zu finden!</li>\n",
    "<li>Versuchen Sie einen einfachen KNN (k-Nearest-Neighbor) - Klassifizierer zu erstellen</li>   \n",
    "</ol>    "
   ]
  },
  {
   "cell_type": "code",
   "execution_count": null,
   "metadata": {},
   "outputs": [],
   "source": [
    "# Vorbereitung der Daten\n",
    "\n",
    "#Erst mal die Ausgangsgröße (Material) als y-Werte definieren:\n",
    "y_data = data.material.values\n",
    "\n",
    "#Jetzt das Material und alle unwichtigen Parameter entfernen, ergänzen Sie alle Parameter ohne Korrelation zum Material:\n",
    "x_data = data.drop([\"material\",\"...\",\"...\",\"...\",\"...\"],axis=1)"
   ]
  },
  {
   "cell_type": "markdown",
   "metadata": {},
   "source": [
    "Im Allgemeinen arbeiten die Algorithmen mit Zahlenwerten zwischen 0 und 1. Daher müssen die übrigen Daten skaliert werden.\n",
    "<br>Das kann man manuell erledigen:"
   ]
  },
  {
   "cell_type": "code",
   "execution_count": null,
   "metadata": {},
   "outputs": [],
   "source": [
    "import numpy as np\n",
    "\n",
    "print(x_data.head())\n",
    "# Normieren, d.h. Daten in einen bereich zwischen 0 und 1 bringen\n",
    "x_norm = (x_data - np.min(x_data))/(np.max(x_data)-np.min(x_data))\n",
    "print(x_norm.head())"
   ]
  },
  {
   "cell_type": "markdown",
   "metadata": {},
   "source": [
    "### ...oder man nutzt ein Werkzeug! Achtung Zelle unter der Aufgabenstellung noch mal ausführen! "
   ]
  },
  {
   "cell_type": "code",
   "execution_count": null,
   "metadata": {},
   "outputs": [],
   "source": [
    "from sklearn.preprocessing import MinMaxScaler\n",
    "\n",
    "print(x_data.head())\n",
    "mm = MinMaxScaler()\n",
    "x_norm = mm.fit_transform(x_data)\n",
    "print(x_norm)"
   ]
  },
  {
   "cell_type": "markdown",
   "metadata": {},
   "source": [
    "### Wir brauchen Trainigs und Testdaten\n",
    "Diese lassen sich über train_test_split aus dem sklearn-Baukasten leicht erzeugen."
   ]
  },
  {
   "cell_type": "code",
   "execution_count": null,
   "metadata": {},
   "outputs": [],
   "source": [
    "from sklearn.model_selection import train_test_split\n",
    "x_train, x_test, y_train, y_test = train_test_split(x_norm,y_data,test_size = 0.3,random_state=1)"
   ]
  },
  {
   "cell_type": "code",
   "execution_count": null,
   "metadata": {},
   "outputs": [],
   "source": [
    "#Jetzt zum eigentlichen KNN\n",
    "from sklearn.neighbors import KNeighborsClassifier\n",
    "knn = KNeighborsClassifier(n_neighbors = 3) # n_neighbors = k wir starten mal mit 3 Nachbarn\n",
    "knn.fit(x_train,y_train)\n",
    "prediction = knn.predict(x_test)\n",
    "print(\" {} nn score: {} \".format(3, knn.score(x_test,y_test)))\n"
   ]
  },
  {
   "cell_type": "markdown",
   "metadata": {},
   "source": [
    "#### Etwas Metrik:"
   ]
  },
  {
   "cell_type": "code",
   "execution_count": null,
   "metadata": {},
   "outputs": [],
   "source": [
    "# from sklearn.metrics import confusion_matrix\n",
    "import seaborn as sns\n",
    "import matplotlib.pyplot as plt\n",
    "\n",
    "#Calculating Confusion Matrix\n",
    "CM = confusion_matrix(y_test, prediction)\n",
    "print('Confusion Matrix is : \\n', CM)\n",
    "\n",
    "# drawing confusion matrix\n",
    "sns.heatmap(CM, center = True, cmap=plt.cm.Blues, annot=True)\n",
    "plt.show()"
   ]
  },
  {
   "cell_type": "markdown",
   "metadata": {},
   "source": [
    "## Aufgabe:\n",
    "Untersuchen Sie nun, ob es mit zunehmender Zahl der Nachbarn besser wird!"
   ]
  },
  {
   "cell_type": "code",
   "execution_count": null,
   "metadata": {},
   "outputs": [],
   "source": []
  },
  {
   "cell_type": "markdown",
   "metadata": {},
   "source": [
    "<ul>\n",
    "    <li>Was beobachten Sie?</li>\n",
    "    <li>Bis zu welcher Höhe von k macht es Sinn?</li>\n",
    "    <li>Warum? Wie viele nächste Nachbarn gibt es im Trainingsset?</li>\n",
    "</ul>"
   ]
  },
 ],
 "metadata": {
  "kernelspec": {
   "display_name": "Python 3",
   "language": "python",
   "name": "python3"
  },
  "language_info": {
   "codemirror_mode": {
    "name": "ipython",
    "version": 3
   },
   "file_extension": ".py",
   "mimetype": "text/x-python",
   "name": "python",
   "nbconvert_exporter": "python",
   "pygments_lexer": "ipython3",
   "version": "3.8.5"
  }
 },
 "nbformat": 4,
 "nbformat_minor": 2
}
