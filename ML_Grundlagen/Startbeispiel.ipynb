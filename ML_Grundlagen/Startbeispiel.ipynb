{
 "cells": [
  {
   "cell_type": "code",
   "execution_count": 25,
   "metadata": {},
   "outputs": [
    {
     "name": "stdout",
     "output_type": "stream",
     "text": [
      "Schrauben array\n",
      "[[ 0.35 30.  ]\n",
      " [ 0.3  25.  ]\n",
      " [ 0.45 32.  ]]\n",
      "----\n",
      "Muttern array\n",
      "[[ 0.65 25.  ]\n",
      " [ 0.52 21.  ]]\n",
      "----\n"
     ]
    },
    {
     "data": {
      "image/png": "[encoded data removed]",
      "text/plain": [
       "<Figure size 432x288 with 1 Axes>"
      ]
     },
     "metadata": {
      "needs_background": "light"
     },
     "output_type": "display_data"
    }
   ],
   "source": [
    "#Beispiel für Klassifizierung mit Entscheidungsgrenze\n",
    "#Autor: U. Triltsch\n",
    "#Letzte Änderung 26.10.2021\n",
    "\n",
    "import numpy as np\n",
    "import matplotlib.pyplot as plt\n",
    "\n",
    "lernrate = 1\n",
    "\n",
    "################################\n",
    "##Einfache Update Funktion für Entscheidungsgrenze\n",
    "#m: aktuelle Steigung\n",
    "#b: aktueller Achsenabschnitt\n",
    "#x: liste von x-Punkten für Gerade\n",
    "#neuer_datenpkt: neuer Datenpunkt\n",
    "#label: Label: 0: Schraube; 1: Mutter\n",
    "def update_m(m,b,x,neuer_datenpkt,label):\n",
    "    if label==0:  \n",
    "        y_soll=neuer_datenpkt[1]-1\n",
    "    else:\n",
    "        y_soll=neuer_datenpkt[1]+1\n",
    "    y_ist=neuer_datenpkt[0]*m+b\n",
    "    \n",
    "    #fehler \n",
    "    fehler=(y_soll-y_ist)\n",
    "    \n",
    "    delta_m=(fehler/neuer_datenpkt[0])*lernrate\n",
    "    m_neu=m+delta_m\n",
    "    y_neu=x*m_neu+b\n",
    "    plt.plot(x, y_neu, '-c', linestyle='--')\n",
    "\n",
    "# Schraube: Anteil schwarzer Pixel, Anzahl Kanten\n",
    "schrauben=np.array([(0.35, 30), (0.30, 25), (0.45, 32)])\n",
    "print(\"Schrauben array\")\n",
    "print(schrauben)\n",
    "print(\"----\")\n",
    "\n",
    "\n",
    "# Mutter: Anteil schwarzer Pixel, Anzahl Kanten\n",
    "muttern=np.array([(0.65, 25), (0.52, 21)])\n",
    "print(\"Muttern array\")\n",
    "print(muttern)\n",
    "print(\"----\")\n",
    "\n",
    "#Diagramm formatieren\n",
    "plt.rcParams['lines.markersize'] = 8\n",
    "plt.rcParams['lines.linewidth'] = 2\n",
    "plt.axis([0, 1, 0, 40])\n",
    "plt.xlabel('Anteil schwarzer Pixel')\n",
    "plt.ylabel(\"Anzahl Kanten\")\n",
    "plt.grid()\n",
    "\n",
    "\n",
    "# Datenpunkte anzeigen\n",
    "for data_point in schrauben:\n",
    "    plt.plot(data_point[0], data_point[1],'bo')\n",
    "for data_point in muttern:\n",
    "    plt.plot(data_point[0], data_point[1],'rs')\n",
    "\n",
    "'''\n",
    "# Entscheidungsgrenze anzeigen\n",
    "x=np.linspace(0,1,10) #10 gleichverteilte Punkte zwischen 0 und 1\n",
    "print(x)\n",
    "\n",
    "m=68.889\n",
    "b=0\n",
    "y_neu=m*x+b\n",
    "\n",
    "plt.plot(x, y_neu, '-g', linestyle='--')\n",
    "'''\n",
    "\n",
    "'''\n",
    "# neue Schraube\n",
    "neue_schraube = np.array([(0.4, 25)])\n",
    "plt.plot(neue_schraube[0][0], neue_schraube[0][1], 'bo')\n",
    "'''\n",
    "\n",
    "\n",
    "'''\n",
    "y_ist = m * neue_schraube[0][0] + b\n",
    "y_soll = neue_schraube[0][1] - 1\n",
    "\n",
    "\n",
    "fehler = y_soll - y_ist\n",
    "delta_m = (fehler/neue_schraube[0][0])\n",
    "m_neu = m + delta_m\n",
    "y_neu = x * m_neu + b\n",
    "plt.plot(x, y_neu, '-c', linestyle='--')\n",
    "'''\n",
    "\n",
    "#update_m(m,b,x,neue_schraube[0],0)\n",
    "\n",
    "'''\n",
    "#neue Mutter\n",
    "neue_mutter=np.array([(0.76,30)])\n",
    "plt.plot(neue_mutter[0][0], neue_mutter[0][1], 'mo')\n",
    "\n",
    "update_m(m, b, x, neue_mutter[0], 1)\n",
    "'''\n",
    "\n",
    "plt.show()\n"
   ]
  },
  {
   "cell_type": "code",
   "execution_count": null,
   "metadata": {},
   "outputs": [],
   "source": []
  },
  {
   "cell_type": "code",
   "execution_count": null,
   "metadata": {},
   "outputs": [],
   "source": []
  }
 ],
 "metadata": {
  "kernelspec": {
   "display_name": "Python 3",
   "language": "python",
   "name": "python3"
  },
  "language_info": {
   "codemirror_mode": {
    "name": "ipython",
    "version": 3
   },
   "file_extension": ".py",
   "mimetype": "text/x-python",
   "name": "python",
   "nbconvert_exporter": "python",
   "pygments_lexer": "ipython3",
   "version": "3.8.5"
  }
 },
 "nbformat": 4,
 "nbformat_minor": 2
}
