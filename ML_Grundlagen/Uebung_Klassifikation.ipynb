{
 "cells": [
  {
   "cell_type": "code",
   "execution_count": 4,
   "metadata": {},
   "outputs": [
    {
     "data": {
      "image/png": "[encoded data removed]",
      "text/plain": [
       "<Figure size 432x288 with 1 Axes>"
      ]
     },
     "metadata": {
      "needs_background": "light"
     },
     "output_type": "display_data"
    }
   ],
   "source": [
    "#Übung für Klassifizierung mit Entscheidungsgrenze\n",
    "#Hier sollen Himbeeren und Zitronen voneinander unterschieden werden.\n",
    "#Features: Radius und Süße\n",
    "#Autor: U. Triltsch\n",
    "#Letzte Änderung 26.10.2021\n",
    "\n",
    "import numpy as np\n",
    "import matplotlib.pyplot as plt\n",
    "\n",
    "\n",
    "\n",
    "#array with radius, sweetness, label (0== raspberry, 1==lemon)\n",
    "fruit_array=np.array([(0.5,3,0),(4.5,0.5,1),(1.2,4.5,0),\n",
    "                          (0.9,3.6,0),(4,0.97,1),(4.3,0.88,1),\n",
    "                          (2.3,4.2,0),(3.5,0.2,1),(2,4.8,0),\n",
    "                          (3,0.9,1),(2.8,3.4,0),(3.8,0.7,1)])\n",
    "\n",
    "max_x=5\n",
    "max_y=5\n",
    "#set the plot markers, axis ranges and labels\n",
    "plt.rcParams['lines.markersize'] = 8\n",
    "plt.rcParams['lines.linewidth'] = 2\n",
    "plt.axis([0, max_x, 0, max_y])\n",
    "plt.xlabel('radius')\n",
    "plt.ylabel(\"sweetness\")\n",
    "plt.grid()\n",
    "\n",
    "#10 evenlyspace points between 0 and 5\n",
    "x=np.linspace(0,5,10)\n",
    "\n",
    "#TODO: compute first decision boundary (i.e. determine b, m and y)\n",
    "\n",
    "\n",
    "\n",
    "#TODO: update m and y with each new data point\n",
    "for data_point in fruit_array:\n",
    "    if data_point[2]==0:\n",
    "        plt.plot(data_point[0], data_point[1], 'ro')\n",
    "    else:\n",
    "        plt.plot(data_point[0], data_point[1], 'yo') \n",
    "\n",
    "plt.show()"
   ]
  },
  {
   "cell_type": "code",
   "execution_count": null,
   "metadata": {},
   "outputs": [],
   "source": []
  }
 ],
 "metadata": {
  "kernelspec": {
   "display_name": "Python 3",
   "language": "python",
   "name": "python3"
  },
  "language_info": {
   "codemirror_mode": {
    "name": "ipython",
    "version": 3
   },
   "file_extension": ".py",
   "mimetype": "text/x-python",
   "name": "python",
   "nbconvert_exporter": "python",
   "pygments_lexer": "ipython3",
   "version": "3.8.5"
  }
 },
 "nbformat": 4,
 "nbformat_minor": 2
}
