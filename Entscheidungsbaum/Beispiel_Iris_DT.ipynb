{
 "cells": [
  {
   "cell_type": "markdown",
   "metadata": {},
   "source": [
    "# Entscheidungsbaum\n",
    "\n",
    "Wir nutzen wieder das sklearn-Modul, um einen Entscheidungsbaum zu trainieren.\n",
    "Hier ist die Aufgabe, die Irisart in <b> 3 Klassen</b> vorherzusagen.\n",
    "<p>\n",
    "Versicolor<br>\n",
    "Setosa<br>\n",
    "Virginica<br>\n",
    "</p><br>\n",
    "\n",
    "### 1. Schritt: Daten einlesen:"
   ]
  },
  {
   "cell_type": "code",
   "execution_count": 3,
   "metadata": {},
   "outputs": [
    {
     "data": {
      "text/html": [
       "<div>\n",
       "<style scoped>\n",
       "    .dataframe tbody tr th:only-of-type {\n",
       "        vertical-align: middle;\n",
       "    }\n",
       "\n",
       "    .dataframe tbody tr th {\n",
       "        vertical-align: top;\n",
       "    }\n",
       "\n",
       "    .dataframe thead th {\n",
       "        text-align: right;\n",
       "    }\n",
       "</style>\n",
       "<table border=\"1\" class=\"dataframe\">\n",
       "  <thead>\n",
       "    <tr style=\"text-align: right;\">\n",
       "      <th></th>\n",
       "      <th>sepal.length</th>\n",
       "      <th>sepal.width</th>\n",
       "      <th>petal.length</th>\n",
       "      <th>petal.width</th>\n",
       "      <th>variety</th>\n",
       "    </tr>\n",
       "  </thead>\n",
       "  <tbody>\n",
       "    <tr>\n",
       "      <th>0</th>\n",
       "      <td>5.1</td>\n",
       "      <td>3.5</td>\n",
       "      <td>1.4</td>\n",
       "      <td>0.2</td>\n",
       "      <td>Setosa</td>\n",
       "    </tr>\n",
       "    <tr>\n",
       "      <th>1</th>\n",
       "      <td>4.9</td>\n",
       "      <td>3.0</td>\n",
       "      <td>1.4</td>\n",
       "      <td>0.2</td>\n",
       "      <td>Setosa</td>\n",
       "    </tr>\n",
       "    <tr>\n",
       "      <th>2</th>\n",
       "      <td>4.7</td>\n",
       "      <td>3.2</td>\n",
       "      <td>1.3</td>\n",
       "      <td>0.2</td>\n",
       "      <td>Setosa</td>\n",
       "    </tr>\n",
       "    <tr>\n",
       "      <th>3</th>\n",
       "      <td>4.6</td>\n",
       "      <td>3.1</td>\n",
       "      <td>1.5</td>\n",
       "      <td>0.2</td>\n",
       "      <td>Setosa</td>\n",
       "    </tr>\n",
       "    <tr>\n",
       "      <th>4</th>\n",
       "      <td>5.0</td>\n",
       "      <td>3.6</td>\n",
       "      <td>1.4</td>\n",
       "      <td>0.2</td>\n",
       "      <td>Setosa</td>\n",
       "    </tr>\n",
       "    <tr>\n",
       "      <th>...</th>\n",
       "      <td>...</td>\n",
       "      <td>...</td>\n",
       "      <td>...</td>\n",
       "      <td>...</td>\n",
       "      <td>...</td>\n",
       "    </tr>\n",
       "    <tr>\n",
       "      <th>145</th>\n",
       "      <td>6.7</td>\n",
       "      <td>3.0</td>\n",
       "      <td>5.2</td>\n",
       "      <td>2.3</td>\n",
       "      <td>Virginica</td>\n",
       "    </tr>\n",
       "    <tr>\n",
       "      <th>146</th>\n",
       "      <td>6.3</td>\n",
       "      <td>2.5</td>\n",
       "      <td>5.0</td>\n",
       "      <td>1.9</td>\n",
       "      <td>Virginica</td>\n",
       "    </tr>\n",
       "    <tr>\n",
       "      <th>147</th>\n",
       "      <td>6.5</td>\n",
       "      <td>3.0</td>\n",
       "      <td>5.2</td>\n",
       "      <td>2.0</td>\n",
       "      <td>Virginica</td>\n",
       "    </tr>\n",
       "    <tr>\n",
       "      <th>148</th>\n",
       "      <td>6.2</td>\n",
       "      <td>3.4</td>\n",
       "      <td>5.4</td>\n",
       "      <td>2.3</td>\n",
       "      <td>Virginica</td>\n",
       "    </tr>\n",
       "    <tr>\n",
       "      <th>149</th>\n",
       "      <td>5.9</td>\n",
       "      <td>3.0</td>\n",
       "      <td>5.1</td>\n",
       "      <td>1.8</td>\n",
       "      <td>Virginica</td>\n",
       "    </tr>\n",
       "  </tbody>\n",
       "</table>\n",
       "<p>150 rows × 5 columns</p>\n",
       "</div>"
      ],
      "text/plain": [
       "     sepal.length  sepal.width  petal.length  petal.width    variety\n",
       "0             5.1          3.5           1.4          0.2     Setosa\n",
       "1             4.9          3.0           1.4          0.2     Setosa\n",
       "2             4.7          3.2           1.3          0.2     Setosa\n",
       "3             4.6          3.1           1.5          0.2     Setosa\n",
       "4             5.0          3.6           1.4          0.2     Setosa\n",
       "..            ...          ...           ...          ...        ...\n",
       "145           6.7          3.0           5.2          2.3  Virginica\n",
       "146           6.3          2.5           5.0          1.9  Virginica\n",
       "147           6.5          3.0           5.2          2.0  Virginica\n",
       "148           6.2          3.4           5.4          2.3  Virginica\n",
       "149           5.9          3.0           5.1          1.8  Virginica\n",
       "\n",
       "[150 rows x 5 columns]"
      ]
     },
     "execution_count": 3,
     "metadata": {},
     "output_type": "execute_result"
    }
   ],
   "source": [
    "import pandas as pd\n",
    "data = pd.read_csv(\"iris.csv\", sep = \",\")\n",
    "\n",
    "data"
   ]
  },
  {
   "cell_type": "markdown",
   "metadata": {},
   "source": [
    "##### Erkunden und Bereinigen:"
   ]
  },
  {
   "cell_type": "code",
   "execution_count": 4,
   "metadata": {},
   "outputs": [
    {
     "data": {
      "text/html": [
       "<div>\n",
       "<style scoped>\n",
       "    .dataframe tbody tr th:only-of-type {\n",
       "        vertical-align: middle;\n",
       "    }\n",
       "\n",
       "    .dataframe tbody tr th {\n",
       "        vertical-align: top;\n",
       "    }\n",
       "\n",
       "    .dataframe thead th {\n",
       "        text-align: right;\n",
       "    }\n",
       "</style>\n",
       "<table border=\"1\" class=\"dataframe\">\n",
       "  <thead>\n",
       "    <tr style=\"text-align: right;\">\n",
       "      <th></th>\n",
       "      <th>sepal.length</th>\n",
       "      <th>sepal.width</th>\n",
       "      <th>petal.length</th>\n",
       "      <th>petal.width</th>\n",
       "      <th>variety</th>\n",
       "    </tr>\n",
       "  </thead>\n",
       "  <tbody>\n",
       "    <tr>\n",
       "      <th>98</th>\n",
       "      <td>5.1</td>\n",
       "      <td>2.5</td>\n",
       "      <td>3.0</td>\n",
       "      <td>1.1</td>\n",
       "      <td>Versicolor</td>\n",
       "    </tr>\n",
       "    <tr>\n",
       "      <th>99</th>\n",
       "      <td>5.7</td>\n",
       "      <td>2.8</td>\n",
       "      <td>4.1</td>\n",
       "      <td>1.3</td>\n",
       "      <td>Versicolor</td>\n",
       "    </tr>\n",
       "    <tr>\n",
       "      <th>100</th>\n",
       "      <td>6.3</td>\n",
       "      <td>3.3</td>\n",
       "      <td>6.0</td>\n",
       "      <td>2.5</td>\n",
       "      <td>Virginica</td>\n",
       "    </tr>\n",
       "    <tr>\n",
       "      <th>101</th>\n",
       "      <td>5.8</td>\n",
       "      <td>2.7</td>\n",
       "      <td>5.1</td>\n",
       "      <td>1.9</td>\n",
       "      <td>Virginica</td>\n",
       "    </tr>\n",
       "    <tr>\n",
       "      <th>102</th>\n",
       "      <td>7.1</td>\n",
       "      <td>3.0</td>\n",
       "      <td>5.9</td>\n",
       "      <td>2.1</td>\n",
       "      <td>Virginica</td>\n",
       "    </tr>\n",
       "  </tbody>\n",
       "</table>\n",
       "</div>"
      ],
      "text/plain": [
       "     sepal.length  sepal.width  petal.length  petal.width     variety\n",
       "98            5.1          2.5           3.0          1.1  Versicolor\n",
       "99            5.7          2.8           4.1          1.3  Versicolor\n",
       "100           6.3          3.3           6.0          2.5   Virginica\n",
       "101           5.8          2.7           5.1          1.9   Virginica\n",
       "102           7.1          3.0           5.9          2.1   Virginica"
      ]
     },
     "execution_count": 4,
     "metadata": {},
     "output_type": "execute_result"
    }
   ],
   "source": [
    "#Zeilen 98 bis 102 und alle Spalten\n",
    "data.loc[98:102,:]"
   ]
  },
  {
   "cell_type": "markdown",
   "metadata": {},
   "source": [
    "#### Variante in Zahl umwandeln"
   ]
  },
  {
   "cell_type": "code",
   "execution_count": 5,
   "metadata": {},
   "outputs": [],
   "source": [
    "variant = {'Versicolor': 0, 'Setosa' : 1, 'Virginica' : 2}\n",
    "\n",
    "data['variety'] = data['variety'].map(variant)"
   ]
  },
  {
   "cell_type": "markdown",
   "metadata": {},
   "source": [
    "#### Auswirkungen anschauen"
   ]
  },
  {
   "cell_type": "code",
   "execution_count": 7,
   "metadata": {},
   "outputs": [
    {
     "data": {
      "text/html": [
       "<div>\n",
       "<style scoped>\n",
       "    .dataframe tbody tr th:only-of-type {\n",
       "        vertical-align: middle;\n",
       "    }\n",
       "\n",
       "    .dataframe tbody tr th {\n",
       "        vertical-align: top;\n",
       "    }\n",
       "\n",
       "    .dataframe thead th {\n",
       "        text-align: right;\n",
       "    }\n",
       "</style>\n",
       "<table border=\"1\" class=\"dataframe\">\n",
       "  <thead>\n",
       "    <tr style=\"text-align: right;\">\n",
       "      <th></th>\n",
       "      <th>sepal.length</th>\n",
       "      <th>sepal.width</th>\n",
       "      <th>petal.length</th>\n",
       "      <th>petal.width</th>\n",
       "      <th>variety</th>\n",
       "    </tr>\n",
       "  </thead>\n",
       "  <tbody>\n",
       "    <tr>\n",
       "      <th>48</th>\n",
       "      <td>5.3</td>\n",
       "      <td>3.7</td>\n",
       "      <td>1.5</td>\n",
       "      <td>0.2</td>\n",
       "      <td>1</td>\n",
       "    </tr>\n",
       "    <tr>\n",
       "      <th>49</th>\n",
       "      <td>5.0</td>\n",
       "      <td>3.3</td>\n",
       "      <td>1.4</td>\n",
       "      <td>0.2</td>\n",
       "      <td>1</td>\n",
       "    </tr>\n",
       "    <tr>\n",
       "      <th>50</th>\n",
       "      <td>7.0</td>\n",
       "      <td>3.2</td>\n",
       "      <td>4.7</td>\n",
       "      <td>1.4</td>\n",
       "      <td>0</td>\n",
       "    </tr>\n",
       "    <tr>\n",
       "      <th>51</th>\n",
       "      <td>6.4</td>\n",
       "      <td>3.2</td>\n",
       "      <td>4.5</td>\n",
       "      <td>1.5</td>\n",
       "      <td>0</td>\n",
       "    </tr>\n",
       "    <tr>\n",
       "      <th>52</th>\n",
       "      <td>6.9</td>\n",
       "      <td>3.1</td>\n",
       "      <td>4.9</td>\n",
       "      <td>1.5</td>\n",
       "      <td>0</td>\n",
       "    </tr>\n",
       "  </tbody>\n",
       "</table>\n",
       "</div>"
      ],
      "text/plain": [
       "    sepal.length  sepal.width  petal.length  petal.width  variety\n",
       "48           5.3          3.7           1.5          0.2        1\n",
       "49           5.0          3.3           1.4          0.2        1\n",
       "50           7.0          3.2           4.7          1.4        0\n",
       "51           6.4          3.2           4.5          1.5        0\n",
       "52           6.9          3.1           4.9          1.5        0"
      ]
     },
     "execution_count": 7,
     "metadata": {},
     "output_type": "execute_result"
    }
   ],
   "source": [
    "data.loc[48:52,:]\n",
    "\n",
    "#data.loc[98:102,:]"
   ]
  },
  {
   "cell_type": "markdown",
   "metadata": {},
   "source": [
    "### 2. Schritt Korrelationsanalyse: "
   ]
  },
  {
   "cell_type": "code",
   "execution_count": 8,
   "metadata": {},
   "outputs": [
    {
     "data": {
      "text/html": [
       "<style  type=\"text/css\" >\n",
       "#T_5d0ebdf2_5f70_11ed_8c4b_0050b6d508d5row0_col0,#T_5d0ebdf2_5f70_11ed_8c4b_0050b6d508d5row1_col1,#T_5d0ebdf2_5f70_11ed_8c4b_0050b6d508d5row2_col2,#T_5d0ebdf2_5f70_11ed_8c4b_0050b6d508d5row3_col3,#T_5d0ebdf2_5f70_11ed_8c4b_0050b6d508d5row4_col4{\n",
       "            background-color:  #b40426;\n",
       "            color:  #f1f1f1;\n",
       "        }#T_5d0ebdf2_5f70_11ed_8c4b_0050b6d508d5row0_col1{\n",
       "            background-color:  #81a4fb;\n",
       "            color:  #000000;\n",
       "        }#T_5d0ebdf2_5f70_11ed_8c4b_0050b6d508d5row0_col2{\n",
       "            background-color:  #d24b40;\n",
       "            color:  #f1f1f1;\n",
       "        }#T_5d0ebdf2_5f70_11ed_8c4b_0050b6d508d5row0_col3{\n",
       "            background-color:  #e0654f;\n",
       "            color:  #000000;\n",
       "        }#T_5d0ebdf2_5f70_11ed_8c4b_0050b6d508d5row0_col4{\n",
       "            background-color:  #6e90f2;\n",
       "            color:  #000000;\n",
       "        }#T_5d0ebdf2_5f70_11ed_8c4b_0050b6d508d5row1_col0,#T_5d0ebdf2_5f70_11ed_8c4b_0050b6d508d5row1_col2,#T_5d0ebdf2_5f70_11ed_8c4b_0050b6d508d5row1_col3,#T_5d0ebdf2_5f70_11ed_8c4b_0050b6d508d5row1_col4,#T_5d0ebdf2_5f70_11ed_8c4b_0050b6d508d5row2_col1{\n",
       "            background-color:  #3b4cc0;\n",
       "            color:  #f1f1f1;\n",
       "        }#T_5d0ebdf2_5f70_11ed_8c4b_0050b6d508d5row2_col0{\n",
       "            background-color:  #da5a49;\n",
       "            color:  #000000;\n",
       "        }#T_5d0ebdf2_5f70_11ed_8c4b_0050b6d508d5row2_col3,#T_5d0ebdf2_5f70_11ed_8c4b_0050b6d508d5row3_col2{\n",
       "            background-color:  #bd1f2d;\n",
       "            color:  #f1f1f1;\n",
       "        }#T_5d0ebdf2_5f70_11ed_8c4b_0050b6d508d5row2_col4{\n",
       "            background-color:  #6485ec;\n",
       "            color:  #000000;\n",
       "        }#T_5d0ebdf2_5f70_11ed_8c4b_0050b6d508d5row3_col0{\n",
       "            background-color:  #e67259;\n",
       "            color:  #000000;\n",
       "        }#T_5d0ebdf2_5f70_11ed_8c4b_0050b6d508d5row3_col1{\n",
       "            background-color:  #485fd1;\n",
       "            color:  #f1f1f1;\n",
       "        }#T_5d0ebdf2_5f70_11ed_8c4b_0050b6d508d5row3_col4{\n",
       "            background-color:  #85a8fc;\n",
       "            color:  #000000;\n",
       "        }#T_5d0ebdf2_5f70_11ed_8c4b_0050b6d508d5row4_col0{\n",
       "            background-color:  #bed2f6;\n",
       "            color:  #000000;\n",
       "        }#T_5d0ebdf2_5f70_11ed_8c4b_0050b6d508d5row4_col1{\n",
       "            background-color:  #cbd8ee;\n",
       "            color:  #000000;\n",
       "        }#T_5d0ebdf2_5f70_11ed_8c4b_0050b6d508d5row4_col2{\n",
       "            background-color:  #dfdbd9;\n",
       "            color:  #000000;\n",
       "        }#T_5d0ebdf2_5f70_11ed_8c4b_0050b6d508d5row4_col3{\n",
       "            background-color:  #e8d6cc;\n",
       "            color:  #000000;\n",
       "        }</style><table id=\"T_5d0ebdf2_5f70_11ed_8c4b_0050b6d508d5\" ><thead>    <tr>        <th class=\"blank level0\" ></th>        <th class=\"col_heading level0 col0\" >sepal.length</th>        <th class=\"col_heading level0 col1\" >sepal.width</th>        <th class=\"col_heading level0 col2\" >petal.length</th>        <th class=\"col_heading level0 col3\" >petal.width</th>        <th class=\"col_heading level0 col4\" >variety</th>    </tr></thead><tbody>\n",
       "                <tr>\n",
       "                        <th id=\"T_5d0ebdf2_5f70_11ed_8c4b_0050b6d508d5level0_row0\" class=\"row_heading level0 row0\" >sepal.length</th>\n",
       "                        <td id=\"T_5d0ebdf2_5f70_11ed_8c4b_0050b6d508d5row0_col0\" class=\"data row0 col0\" >1.000</td>\n",
       "                        <td id=\"T_5d0ebdf2_5f70_11ed_8c4b_0050b6d508d5row0_col1\" class=\"data row0 col1\" >-0.118</td>\n",
       "                        <td id=\"T_5d0ebdf2_5f70_11ed_8c4b_0050b6d508d5row0_col2\" class=\"data row0 col2\" >0.872</td>\n",
       "                        <td id=\"T_5d0ebdf2_5f70_11ed_8c4b_0050b6d508d5row0_col3\" class=\"data row0 col3\" >0.818</td>\n",
       "                        <td id=\"T_5d0ebdf2_5f70_11ed_8c4b_0050b6d508d5row0_col4\" class=\"data row0 col4\" >0.323</td>\n",
       "            </tr>\n",
       "            <tr>\n",
       "                        <th id=\"T_5d0ebdf2_5f70_11ed_8c4b_0050b6d508d5level0_row1\" class=\"row_heading level0 row1\" >sepal.width</th>\n",
       "                        <td id=\"T_5d0ebdf2_5f70_11ed_8c4b_0050b6d508d5row1_col0\" class=\"data row1 col0\" >-0.118</td>\n",
       "                        <td id=\"T_5d0ebdf2_5f70_11ed_8c4b_0050b6d508d5row1_col1\" class=\"data row1 col1\" >1.000</td>\n",
       "                        <td id=\"T_5d0ebdf2_5f70_11ed_8c4b_0050b6d508d5row1_col2\" class=\"data row1 col2\" >-0.428</td>\n",
       "                        <td id=\"T_5d0ebdf2_5f70_11ed_8c4b_0050b6d508d5row1_col3\" class=\"data row1 col3\" >-0.366</td>\n",
       "                        <td id=\"T_5d0ebdf2_5f70_11ed_8c4b_0050b6d508d5row1_col4\" class=\"data row1 col4\" >0.192</td>\n",
       "            </tr>\n",
       "            <tr>\n",
       "                        <th id=\"T_5d0ebdf2_5f70_11ed_8c4b_0050b6d508d5level0_row2\" class=\"row_heading level0 row2\" >petal.length</th>\n",
       "                        <td id=\"T_5d0ebdf2_5f70_11ed_8c4b_0050b6d508d5row2_col0\" class=\"data row2 col0\" >0.872</td>\n",
       "                        <td id=\"T_5d0ebdf2_5f70_11ed_8c4b_0050b6d508d5row2_col1\" class=\"data row2 col1\" >-0.428</td>\n",
       "                        <td id=\"T_5d0ebdf2_5f70_11ed_8c4b_0050b6d508d5row2_col2\" class=\"data row2 col2\" >1.000</td>\n",
       "                        <td id=\"T_5d0ebdf2_5f70_11ed_8c4b_0050b6d508d5row2_col3\" class=\"data row2 col3\" >0.963</td>\n",
       "                        <td id=\"T_5d0ebdf2_5f70_11ed_8c4b_0050b6d508d5row2_col4\" class=\"data row2 col4\" >0.300</td>\n",
       "            </tr>\n",
       "            <tr>\n",
       "                        <th id=\"T_5d0ebdf2_5f70_11ed_8c4b_0050b6d508d5level0_row3\" class=\"row_heading level0 row3\" >petal.width</th>\n",
       "                        <td id=\"T_5d0ebdf2_5f70_11ed_8c4b_0050b6d508d5row3_col0\" class=\"data row3 col0\" >0.818</td>\n",
       "                        <td id=\"T_5d0ebdf2_5f70_11ed_8c4b_0050b6d508d5row3_col1\" class=\"data row3 col1\" >-0.366</td>\n",
       "                        <td id=\"T_5d0ebdf2_5f70_11ed_8c4b_0050b6d508d5row3_col2\" class=\"data row3 col2\" >0.963</td>\n",
       "                        <td id=\"T_5d0ebdf2_5f70_11ed_8c4b_0050b6d508d5row3_col3\" class=\"data row3 col3\" >1.000</td>\n",
       "                        <td id=\"T_5d0ebdf2_5f70_11ed_8c4b_0050b6d508d5row3_col4\" class=\"data row3 col4\" >0.376</td>\n",
       "            </tr>\n",
       "            <tr>\n",
       "                        <th id=\"T_5d0ebdf2_5f70_11ed_8c4b_0050b6d508d5level0_row4\" class=\"row_heading level0 row4\" >variety</th>\n",
       "                        <td id=\"T_5d0ebdf2_5f70_11ed_8c4b_0050b6d508d5row4_col0\" class=\"data row4 col0\" >0.323</td>\n",
       "                        <td id=\"T_5d0ebdf2_5f70_11ed_8c4b_0050b6d508d5row4_col1\" class=\"data row4 col1\" >0.192</td>\n",
       "                        <td id=\"T_5d0ebdf2_5f70_11ed_8c4b_0050b6d508d5row4_col2\" class=\"data row4 col2\" >0.300</td>\n",
       "                        <td id=\"T_5d0ebdf2_5f70_11ed_8c4b_0050b6d508d5row4_col3\" class=\"data row4 col3\" >0.376</td>\n",
       "                        <td id=\"T_5d0ebdf2_5f70_11ed_8c4b_0050b6d508d5row4_col4\" class=\"data row4 col4\" >1.000</td>\n",
       "            </tr>\n",
       "    </tbody></table>"
      ],
      "text/plain": [
       "<pandas.io.formats.style.Styler at 0x1df41d1bd30>"
      ]
     },
     "execution_count": 8,
     "metadata": {},
     "output_type": "execute_result"
    }
   ],
   "source": [
    "#Note that the number 3 in the code indicates the number of digits after the decimal point for each cell.\n",
    "correlation = data.corr()\n",
    "correlation.style.background_gradient(cmap='coolwarm').set_precision(3)"
   ]
  },
  {
   "cell_type": "markdown",
   "metadata": {},
   "source": [
    "### 3. Schritt: Label zusammenfassen und normieren:\n",
    "\n",
    "Zunächst schauen wir uns die einzelnen Labels einmal als Plot an. Countplot ist dabei ein gutes Werkzeug. Sie können sich so schnell die Anzahl der Einträge zu den einzelnen Werten ansehen:"
   ]
  },
  {
   "cell_type": "code",
   "execution_count": 9,
   "metadata": {},
   "outputs": [
    {
     "name": "stderr",
     "output_type": "stream",
     "text": [
      "C:\\Users\\triltsch\\Anaconda3\\lib\\site-packages\\seaborn\\_decorators.py:36: FutureWarning: Pass the following variable as a keyword arg: x. From version 0.12, the only valid positional argument will be `data`, and passing other arguments without an explicit keyword will result in an error or misinterpretation.\n",
      "  warnings.warn(\n"
     ]
    },
    {
     "data": {
      "image/png": "[encoded data removed]",
      "text/plain": [
       "<Figure size 1440x576 with 1 Axes>"
      ]
     },
     "metadata": {
      "needs_background": "light"
     },
     "output_type": "display_data"
    }
   ],
   "source": [
    "import seaborn as sns\n",
    "import matplotlib.pyplot as plt\n",
    "\n",
    "plt.figure(figsize=(20,8))\n",
    "sns.countplot(data['variety']);"
   ]
  },
  {
   "cell_type": "markdown",
   "metadata": {},
   "source": [
    "### 4. Schritt:  Vorbereitung der Daten:"
   ]
  },
  {
   "cell_type": "code",
   "execution_count": 10,
   "metadata": {},
   "outputs": [],
   "source": [
    "#Erst mal die Ausgangsgröße (roughness) als y-Werte definieren:\n",
    "y_data = data.variety.values\n",
    "\n",
    "#Jetzt Label entfernen\n",
    "x_data = data.drop([\"variety\"],axis=1)\n",
    "\n",
    "#Normieren der Features\n",
    "from sklearn.preprocessing import MinMaxScaler\n",
    "mm = MinMaxScaler()\n",
    "x_norm = mm.fit_transform(x_data)\n",
    "\n",
    "#Aufteilen in Trainings und Testdaten (70% / 30%), zufällige Auswahl\n",
    "from sklearn.model_selection import train_test_split\n",
    "x_train, x_test, y_train, y_test = train_test_split(x_norm,y_data,test_size = 0.3,random_state=1)"
   ]
  },
  {
   "cell_type": "markdown",
   "metadata": {},
   "source": [
    "### 5. Schritt: Modell erzeugen, trainieren und testen"
   ]
  },
  {
   "cell_type": "code",
   "execution_count": 11,
   "metadata": {},
   "outputs": [
    {
     "name": "stdout",
     "output_type": "stream",
     "text": [
      "DecisionTreeClassifierModel Train Score is :  0.9809523809523809\n",
      "DecisionTreeClassifierModel Test Score is :  0.9777777777777777\n",
      "DecisionTreeClassifierModel Classes are :  [0 1 2]\n",
      "DecisionTreeClassifierModel feature importances are :  [0.         0.         0.06600367 0.93399633]\n"
     ]
    }
   ],
   "source": [
    "#Entsprechendes Modul importieren\n",
    "from sklearn.tree import DecisionTreeClassifier\n",
    "\n",
    "#Modell definieren\n",
    "#Parameter siehe: https://scikit-learn.org/stable/modules/generated/sklearn.tree.DecisionTreeClassifier.html\n",
    "DecisionTreeClassifierModel =DecisionTreeClassifier(criterion='gini', splitter='best', max_depth=3,min_samples_split=2,\n",
    "                                    min_samples_leaf=1,min_weight_fraction_leaf=0.0,max_features=None,\n",
    "                                    random_state=0, max_leaf_nodes=5)\n",
    "\n",
    "DecisionTreeClassifierModel.fit(x_train, y_train)\n",
    "\n",
    "#Etwas Statistik...\n",
    "print('DecisionTreeClassifierModel Train Score is : ' , DecisionTreeClassifierModel.score(x_train, y_train))\n",
    "print('DecisionTreeClassifierModel Test Score is : ' , DecisionTreeClassifierModel.score(x_test, y_test))\n",
    "\n",
    "#Klassen und wichtige Features extrahieren\n",
    "print('DecisionTreeClassifierModel Classes are : ' , DecisionTreeClassifierModel.classes_)\n",
    "print('DecisionTreeClassifierModel feature importances are : ' , DecisionTreeClassifierModel.feature_importances_)"
   ]
  },
  {
   "cell_type": "markdown",
   "metadata": {},
   "source": [
    "### 6. Schritt: Metriken nutzen\n",
    "\n",
    "Es gibt eine Menge nützlicher Fuktionen, um die Vorhersagegenauigkeit anzuzeigen. Hier eine ganz einfache:"
   ]
  },
  {
   "cell_type": "code",
   "execution_count": null,
   "metadata": {
    "execution": {
     "iopub.execute_input": "2021-07-27T10:41:00.762824Z",
     "iopub.status.busy": "2021-07-27T10:41:00.762468Z",
     "iopub.status.idle": "2021-07-27T10:41:00.770463Z",
     "shell.execute_reply": "2021-07-27T10:41:00.769374Z",
     "shell.execute_reply.started": "2021-07-27T10:41:00.762794Z"
    }
   },
   "outputs": [],
   "source": [
    "#Calculating Prediction\n",
    "y_pred = DecisionTreeClassifierModel.predict(x_test)\n",
    "# Now we calculate the probability of choosing the output for any division\n",
    "y_pred_prob = DecisionTreeClassifierModel.predict_proba(x_test)\n",
    "print('Predicted Value for DecisionTreeClassifierModel is : ' , y_pred[:10])\n",
    "# These are the values that we categorized.\n",
    "print(\"test values :\" ,y_test[:10] )\n",
    "print('Prediction Probabilities Value for DecisionTreeClassifierModel is : ' , y_pred_prob[:10])\n"
   ]
  },
  {
   "cell_type": "markdown",
   "metadata": {},
   "source": [
    "Eine weitere Möglichkeit ist die Nutzung des \"metric\" Pakets:"
   ]
  },
  {
   "cell_type": "code",
   "execution_count": null,
   "metadata": {
    "execution": {
     "iopub.execute_input": "2021-07-27T10:41:11.179247Z",
     "iopub.status.busy": "2021-07-27T10:41:11.178882Z",
     "iopub.status.idle": "2021-07-27T10:41:11.419939Z",
     "shell.execute_reply": "2021-07-27T10:41:11.419193Z",
     "shell.execute_reply.started": "2021-07-27T10:41:11.179219Z"
    }
   },
   "outputs": [],
   "source": [
    "from sklearn.metrics import confusion_matrix\n",
    "\n",
    "\n",
    "\n",
    "#Calculating Confusion Matrix\n",
    "CM = confusion_matrix(y_test[:10], y_pred[:10])\n",
    "print('Confusion Matrix is : \\n', CM)\n",
    "\n",
    "# drawing confusion matrix\n",
    "sns.heatmap(CM, center = True, cmap=plt.cm.Blues, annot=True)\n",
    "plt.show()"
   ]
  },
  {
   "cell_type": "markdown",
   "metadata": {},
   "source": [
    "### Decission Tree visualisieren\n",
    "\n",
    "Hierzu müssen zunächst Bibliotheken und auch das Grapviz Paket installiert werden:\n",
    "https://graphviz.org/download/\n",
    "\n",
    "Dies geht leider nur auf der eigenen Hardware, nicht im Poolraum."
   ]
  },
  {
   "cell_type": "code",
   "execution_count": null,
   "metadata": {},
   "outputs": [],
   "source": [
    "#pip install graphviz"
   ]
  },
  {
   "cell_type": "code",
   "execution_count": null,
   "metadata": {},
   "outputs": [],
   "source": [
    "#pip install pydot"
   ]
  },
  {
   "cell_type": "code",
   "execution_count": null,
   "metadata": {},
   "outputs": [],
   "source": [
    "#pip install pydotplus"
   ]
  },
  {
   "cell_type": "code",
   "execution_count": 13,
   "metadata": {},
   "outputs": [
    {
     "data": {
      "image/png": "[encoded data removed]",
      "text/plain": [
       "<IPython.core.display.Image object>"
      ]
     },
     "execution_count": 13,
     "metadata": {},
     "output_type": "execute_result"
    }
   ],
   "source": [
    "import io\n",
    "from io import StringIO\n",
    "from sklearn.tree import export_graphviz\n",
    "from IPython.display import Image  \n",
    "import pydotplus\n",
    "import graphviz\n",
    "\n",
    "\n",
    "feature_cols = x_data.columns\n",
    "dot_data = StringIO()\n",
    "export_graphviz(DecisionTreeClassifierModel, out_file=dot_data,  \n",
    "                filled=True, rounded=True,\n",
    "                special_characters=True,feature_names = feature_cols,class_names=['Versicolor', 'Setosa', 'Virginica'])\n",
    "from pydot import graph_from_dot_data\n",
    "(graph, ) = graph_from_dot_data(dot_data.getvalue())\n",
    "Image(graph.create_png(prog='dot'))"
   ]
  },
  {
   "cell_type": "code",
   "execution_count": null,
   "metadata": {},
   "outputs": [],
   "source": []
  }
 ],
 "metadata": {
  "kernelspec": {
   "display_name": "Python 3",
   "language": "python",
   "name": "python3"
  },
  "language_info": {
   "codemirror_mode": {
    "name": "ipython",
    "version": 3
   },
   "file_extension": ".py",
   "mimetype": "text/x-python",
   "name": "python",
   "nbconvert_exporter": "python",
   "pygments_lexer": "ipython3",
   "version": "3.8.5"
  }
 },
 "nbformat": 4,
 "nbformat_minor": 4
}
